{
 "cells": [
  {
   "cell_type": "code",
   "execution_count": 1,
   "id": "a3068657-2dac-47fe-9892-c807bf9779b5",
   "metadata": {},
   "outputs": [],
   "source": [
    "import pandas as pd\n",
    "import numpy as np\n",
    "import matplotlib.pyplot as plt\n",
    "import seaborn as sns\n",
    "from sklearn.model_selection import train_test_split\n",
    "from sklearn.preprocessing import StandardScaler\n",
    "from imblearn.over_sampling import SMOTE\n",
    "from sklearn.metrics import classification_report, confusion_matrix, roc_auc_score\n",
    "from sklearn.ensemble import RandomForestClassifier\n",
    "from xgboost import XGBClassifier\n",
    "from sklearn.linear_model import LogisticRegression\n",
    "\n",
    "import warnings\n",
    "warnings.filterwarnings('ignore')"
   ]
  },
  {
   "cell_type": "code",
   "execution_count": 2,
   "id": "5e59b6bd-a47e-4850-a541-4aec8f2f83e0",
   "metadata": {},
   "outputs": [
    {
     "data": {
      "text/html": [
       "<div>\n",
       "<style scoped>\n",
       "    .dataframe tbody tr th:only-of-type {\n",
       "        vertical-align: middle;\n",
       "    }\n",
       "\n",
       "    .dataframe tbody tr th {\n",
       "        vertical-align: top;\n",
       "    }\n",
       "\n",
       "    .dataframe thead th {\n",
       "        text-align: right;\n",
       "    }\n",
       "</style>\n",
       "<table border=\"1\" class=\"dataframe\">\n",
       "  <thead>\n",
       "    <tr style=\"text-align: right;\">\n",
       "      <th></th>\n",
       "      <th>Time</th>\n",
       "      <th>V1</th>\n",
       "      <th>V2</th>\n",
       "      <th>V3</th>\n",
       "      <th>V4</th>\n",
       "      <th>V5</th>\n",
       "      <th>V6</th>\n",
       "      <th>V7</th>\n",
       "      <th>V8</th>\n",
       "      <th>V9</th>\n",
       "      <th>...</th>\n",
       "      <th>V21</th>\n",
       "      <th>V22</th>\n",
       "      <th>V23</th>\n",
       "      <th>V24</th>\n",
       "      <th>V25</th>\n",
       "      <th>V26</th>\n",
       "      <th>V27</th>\n",
       "      <th>V28</th>\n",
       "      <th>Amount</th>\n",
       "      <th>Class</th>\n",
       "    </tr>\n",
       "  </thead>\n",
       "  <tbody>\n",
       "    <tr>\n",
       "      <th>0</th>\n",
       "      <td>0.0</td>\n",
       "      <td>-1.359807</td>\n",
       "      <td>-0.072781</td>\n",
       "      <td>2.536347</td>\n",
       "      <td>1.378155</td>\n",
       "      <td>-0.338321</td>\n",
       "      <td>0.462388</td>\n",
       "      <td>0.239599</td>\n",
       "      <td>0.098698</td>\n",
       "      <td>0.363787</td>\n",
       "      <td>...</td>\n",
       "      <td>-0.018307</td>\n",
       "      <td>0.277838</td>\n",
       "      <td>-0.110474</td>\n",
       "      <td>0.066928</td>\n",
       "      <td>0.128539</td>\n",
       "      <td>-0.189115</td>\n",
       "      <td>0.133558</td>\n",
       "      <td>-0.021053</td>\n",
       "      <td>149.62</td>\n",
       "      <td>0</td>\n",
       "    </tr>\n",
       "    <tr>\n",
       "      <th>1</th>\n",
       "      <td>0.0</td>\n",
       "      <td>1.191857</td>\n",
       "      <td>0.266151</td>\n",
       "      <td>0.166480</td>\n",
       "      <td>0.448154</td>\n",
       "      <td>0.060018</td>\n",
       "      <td>-0.082361</td>\n",
       "      <td>-0.078803</td>\n",
       "      <td>0.085102</td>\n",
       "      <td>-0.255425</td>\n",
       "      <td>...</td>\n",
       "      <td>-0.225775</td>\n",
       "      <td>-0.638672</td>\n",
       "      <td>0.101288</td>\n",
       "      <td>-0.339846</td>\n",
       "      <td>0.167170</td>\n",
       "      <td>0.125895</td>\n",
       "      <td>-0.008983</td>\n",
       "      <td>0.014724</td>\n",
       "      <td>2.69</td>\n",
       "      <td>0</td>\n",
       "    </tr>\n",
       "    <tr>\n",
       "      <th>2</th>\n",
       "      <td>1.0</td>\n",
       "      <td>-1.358354</td>\n",
       "      <td>-1.340163</td>\n",
       "      <td>1.773209</td>\n",
       "      <td>0.379780</td>\n",
       "      <td>-0.503198</td>\n",
       "      <td>1.800499</td>\n",
       "      <td>0.791461</td>\n",
       "      <td>0.247676</td>\n",
       "      <td>-1.514654</td>\n",
       "      <td>...</td>\n",
       "      <td>0.247998</td>\n",
       "      <td>0.771679</td>\n",
       "      <td>0.909412</td>\n",
       "      <td>-0.689281</td>\n",
       "      <td>-0.327642</td>\n",
       "      <td>-0.139097</td>\n",
       "      <td>-0.055353</td>\n",
       "      <td>-0.059752</td>\n",
       "      <td>378.66</td>\n",
       "      <td>0</td>\n",
       "    </tr>\n",
       "    <tr>\n",
       "      <th>3</th>\n",
       "      <td>1.0</td>\n",
       "      <td>-0.966272</td>\n",
       "      <td>-0.185226</td>\n",
       "      <td>1.792993</td>\n",
       "      <td>-0.863291</td>\n",
       "      <td>-0.010309</td>\n",
       "      <td>1.247203</td>\n",
       "      <td>0.237609</td>\n",
       "      <td>0.377436</td>\n",
       "      <td>-1.387024</td>\n",
       "      <td>...</td>\n",
       "      <td>-0.108300</td>\n",
       "      <td>0.005274</td>\n",
       "      <td>-0.190321</td>\n",
       "      <td>-1.175575</td>\n",
       "      <td>0.647376</td>\n",
       "      <td>-0.221929</td>\n",
       "      <td>0.062723</td>\n",
       "      <td>0.061458</td>\n",
       "      <td>123.50</td>\n",
       "      <td>0</td>\n",
       "    </tr>\n",
       "    <tr>\n",
       "      <th>4</th>\n",
       "      <td>2.0</td>\n",
       "      <td>-1.158233</td>\n",
       "      <td>0.877737</td>\n",
       "      <td>1.548718</td>\n",
       "      <td>0.403034</td>\n",
       "      <td>-0.407193</td>\n",
       "      <td>0.095921</td>\n",
       "      <td>0.592941</td>\n",
       "      <td>-0.270533</td>\n",
       "      <td>0.817739</td>\n",
       "      <td>...</td>\n",
       "      <td>-0.009431</td>\n",
       "      <td>0.798278</td>\n",
       "      <td>-0.137458</td>\n",
       "      <td>0.141267</td>\n",
       "      <td>-0.206010</td>\n",
       "      <td>0.502292</td>\n",
       "      <td>0.219422</td>\n",
       "      <td>0.215153</td>\n",
       "      <td>69.99</td>\n",
       "      <td>0</td>\n",
       "    </tr>\n",
       "  </tbody>\n",
       "</table>\n",
       "<p>5 rows × 31 columns</p>\n",
       "</div>"
      ],
      "text/plain": [
       "   Time        V1        V2        V3        V4        V5        V6        V7  \\\n",
       "0   0.0 -1.359807 -0.072781  2.536347  1.378155 -0.338321  0.462388  0.239599   \n",
       "1   0.0  1.191857  0.266151  0.166480  0.448154  0.060018 -0.082361 -0.078803   \n",
       "2   1.0 -1.358354 -1.340163  1.773209  0.379780 -0.503198  1.800499  0.791461   \n",
       "3   1.0 -0.966272 -0.185226  1.792993 -0.863291 -0.010309  1.247203  0.237609   \n",
       "4   2.0 -1.158233  0.877737  1.548718  0.403034 -0.407193  0.095921  0.592941   \n",
       "\n",
       "         V8        V9  ...       V21       V22       V23       V24       V25  \\\n",
       "0  0.098698  0.363787  ... -0.018307  0.277838 -0.110474  0.066928  0.128539   \n",
       "1  0.085102 -0.255425  ... -0.225775 -0.638672  0.101288 -0.339846  0.167170   \n",
       "2  0.247676 -1.514654  ...  0.247998  0.771679  0.909412 -0.689281 -0.327642   \n",
       "3  0.377436 -1.387024  ... -0.108300  0.005274 -0.190321 -1.175575  0.647376   \n",
       "4 -0.270533  0.817739  ... -0.009431  0.798278 -0.137458  0.141267 -0.206010   \n",
       "\n",
       "        V26       V27       V28  Amount  Class  \n",
       "0 -0.189115  0.133558 -0.021053  149.62      0  \n",
       "1  0.125895 -0.008983  0.014724    2.69      0  \n",
       "2 -0.139097 -0.055353 -0.059752  378.66      0  \n",
       "3 -0.221929  0.062723  0.061458  123.50      0  \n",
       "4  0.502292  0.219422  0.215153   69.99      0  \n",
       "\n",
       "[5 rows x 31 columns]"
      ]
     },
     "execution_count": 2,
     "metadata": {},
     "output_type": "execute_result"
    }
   ],
   "source": [
    "# Load dataset (replace path with your dataset location)\n",
    "df = pd.read_csv(\"F:/003MYPROJECTS/ENCRYPTIXprojects/Credit card fraud detection/creditcard.csv\")\n",
    "\n",
    "df.head()"
   ]
  },
  {
   "cell_type": "markdown",
   "id": "b6b0c2d6-31fd-477d-8f5f-424a9e8b871a",
   "metadata": {},
   "source": [
    "Here, V1 to V28 features in this dataset are derived from Principal Component Analysis (PCA), in such a way that the dimensionality of the original transaction data is reduced also maintaining anonymality. These transformed features capture important patterns while maintaining privacy, making them uncorrelated and ranked by variance explained. Unlike interpretable columns like \"Amount\" or \"Time,\" they don’t have direct real-world meanings but still play a crucial role in detecting fraud."
   ]
  },
  {
   "cell_type": "markdown",
   "id": "55d063c2-33a1-413b-923c-ba473287da09",
   "metadata": {},
   "source": [
    "# Explore data"
   ]
  },
  {
   "cell_type": "code",
   "execution_count": 3,
   "id": "10a9b538-8565-4bf5-ae12-5229c197b1e7",
   "metadata": {},
   "outputs": [],
   "source": [
    "df.drop_duplicates(inplace=True)"
   ]
  },
  {
   "cell_type": "code",
   "execution_count": 4,
   "id": "fa0a08ee-ac18-4e86-8b09-41e363ef33e4",
   "metadata": {},
   "outputs": [
    {
     "name": "stdout",
     "output_type": "stream",
     "text": [
      "Dataset shape: (283726, 31)\n",
      "Class\n",
      "0    283253\n",
      "1       473\n",
      "Name: count, dtype: int64\n",
      "Duplicated data: 0\n"
     ]
    },
    {
     "data": {
      "image/png": "[encoded data removed]",
      "text/plain": [
       "<Figure size 600x400 with 1 Axes>"
      ]
     },
     "metadata": {},
     "output_type": "display_data"
    }
   ],
   "source": [
    "print(f\"Dataset shape: {df.shape}\")\n",
    "\n",
    "print(df['Class'].value_counts())\n",
    "\n",
    "print(f\"Duplicated data: {df.duplicated().sum()}\")\n",
    "\n",
    "# Visualize class distribution\n",
    "plt.figure(figsize=(6, 4))\n",
    "sns.countplot(x='Class', data=df)\n",
    "plt.title(\"Class Distribution (0: Genuine, 1: Fraud)\")\n",
    "plt.show()\n"
   ]
  },
  {
   "cell_type": "markdown",
   "id": "1ac2f5e9-b1ea-4e9a-9bdc-8e8b7a8249d8",
   "metadata": {},
   "source": [
    "Looking at this count plot, we can clearly see severe class imbalance in the dataset. here, majority of transactions belong to the 'Genuine'(0), while the number of fraud(1) is significantly lower. This imbalance is common in fraud detection datasets, as fraud cases are rare compared to genuine transactions. this uneven distribution can affect performance, making it biased toward the majority class. So, I have used SMOTE (Synthetic Minority Over-sampling Technique) balance the dataset below.\""
   ]
  },
  {
   "cell_type": "code",
   "execution_count": 5,
   "id": "a86bb5d5-cf9f-42b0-9003-d6fa8e4d0c09",
   "metadata": {},
   "outputs": [
    {
     "name": "stdout",
     "output_type": "stream",
     "text": [
      "0\n"
     ]
    }
   ],
   "source": [
    "# Check for missing values\n",
    "print(df.isnull().sum().sum())  # 0 if no missing values"
   ]
  },
  {
   "cell_type": "code",
   "execution_count": 6,
   "id": "f3a639c0-0ed0-4068-b908-c555d65c6c7b",
   "metadata": {},
   "outputs": [
    {
     "data": {
      "text/html": [
       "<div>\n",
       "<style scoped>\n",
       "    .dataframe tbody tr th:only-of-type {\n",
       "        vertical-align: middle;\n",
       "    }\n",
       "\n",
       "    .dataframe tbody tr th {\n",
       "        vertical-align: top;\n",
       "    }\n",
       "\n",
       "    .dataframe thead th {\n",
       "        text-align: right;\n",
       "    }\n",
       "</style>\n",
       "<table border=\"1\" class=\"dataframe\">\n",
       "  <thead>\n",
       "    <tr style=\"text-align: right;\">\n",
       "      <th></th>\n",
       "      <th>Time</th>\n",
       "      <th>V1</th>\n",
       "      <th>V2</th>\n",
       "      <th>V3</th>\n",
       "      <th>V4</th>\n",
       "      <th>V5</th>\n",
       "      <th>V6</th>\n",
       "      <th>V7</th>\n",
       "      <th>V8</th>\n",
       "      <th>V9</th>\n",
       "      <th>...</th>\n",
       "      <th>V21</th>\n",
       "      <th>V22</th>\n",
       "      <th>V23</th>\n",
       "      <th>V24</th>\n",
       "      <th>V25</th>\n",
       "      <th>V26</th>\n",
       "      <th>V27</th>\n",
       "      <th>V28</th>\n",
       "      <th>Amount</th>\n",
       "      <th>Class</th>\n",
       "    </tr>\n",
       "  </thead>\n",
       "  <tbody>\n",
       "    <tr>\n",
       "      <th>count</th>\n",
       "      <td>283726.000000</td>\n",
       "      <td>283726.000000</td>\n",
       "      <td>283726.000000</td>\n",
       "      <td>283726.000000</td>\n",
       "      <td>283726.000000</td>\n",
       "      <td>283726.000000</td>\n",
       "      <td>283726.000000</td>\n",
       "      <td>283726.000000</td>\n",
       "      <td>283726.000000</td>\n",
       "      <td>283726.000000</td>\n",
       "      <td>...</td>\n",
       "      <td>283726.000000</td>\n",
       "      <td>283726.000000</td>\n",
       "      <td>283726.000000</td>\n",
       "      <td>283726.000000</td>\n",
       "      <td>283726.000000</td>\n",
       "      <td>283726.000000</td>\n",
       "      <td>283726.000000</td>\n",
       "      <td>283726.000000</td>\n",
       "      <td>283726.000000</td>\n",
       "      <td>283726.000000</td>\n",
       "    </tr>\n",
       "    <tr>\n",
       "      <th>mean</th>\n",
       "      <td>94811.077600</td>\n",
       "      <td>0.005917</td>\n",
       "      <td>-0.004135</td>\n",
       "      <td>0.001613</td>\n",
       "      <td>-0.002966</td>\n",
       "      <td>0.001828</td>\n",
       "      <td>-0.001139</td>\n",
       "      <td>0.001801</td>\n",
       "      <td>-0.000854</td>\n",
       "      <td>-0.001596</td>\n",
       "      <td>...</td>\n",
       "      <td>-0.000371</td>\n",
       "      <td>-0.000015</td>\n",
       "      <td>0.000198</td>\n",
       "      <td>0.000214</td>\n",
       "      <td>-0.000232</td>\n",
       "      <td>0.000149</td>\n",
       "      <td>0.001763</td>\n",
       "      <td>0.000547</td>\n",
       "      <td>88.472687</td>\n",
       "      <td>0.001667</td>\n",
       "    </tr>\n",
       "    <tr>\n",
       "      <th>std</th>\n",
       "      <td>47481.047891</td>\n",
       "      <td>1.948026</td>\n",
       "      <td>1.646703</td>\n",
       "      <td>1.508682</td>\n",
       "      <td>1.414184</td>\n",
       "      <td>1.377008</td>\n",
       "      <td>1.331931</td>\n",
       "      <td>1.227664</td>\n",
       "      <td>1.179054</td>\n",
       "      <td>1.095492</td>\n",
       "      <td>...</td>\n",
       "      <td>0.723909</td>\n",
       "      <td>0.724550</td>\n",
       "      <td>0.623702</td>\n",
       "      <td>0.605627</td>\n",
       "      <td>0.521220</td>\n",
       "      <td>0.482053</td>\n",
       "      <td>0.395744</td>\n",
       "      <td>0.328027</td>\n",
       "      <td>250.399437</td>\n",
       "      <td>0.040796</td>\n",
       "    </tr>\n",
       "    <tr>\n",
       "      <th>min</th>\n",
       "      <td>0.000000</td>\n",
       "      <td>-56.407510</td>\n",
       "      <td>-72.715728</td>\n",
       "      <td>-48.325589</td>\n",
       "      <td>-5.683171</td>\n",
       "      <td>-113.743307</td>\n",
       "      <td>-26.160506</td>\n",
       "      <td>-43.557242</td>\n",
       "      <td>-73.216718</td>\n",
       "      <td>-13.434066</td>\n",
       "      <td>...</td>\n",
       "      <td>-34.830382</td>\n",
       "      <td>-10.933144</td>\n",
       "      <td>-44.807735</td>\n",
       "      <td>-2.836627</td>\n",
       "      <td>-10.295397</td>\n",
       "      <td>-2.604551</td>\n",
       "      <td>-22.565679</td>\n",
       "      <td>-15.430084</td>\n",
       "      <td>0.000000</td>\n",
       "      <td>0.000000</td>\n",
       "    </tr>\n",
       "    <tr>\n",
       "      <th>25%</th>\n",
       "      <td>54204.750000</td>\n",
       "      <td>-0.915951</td>\n",
       "      <td>-0.600321</td>\n",
       "      <td>-0.889682</td>\n",
       "      <td>-0.850134</td>\n",
       "      <td>-0.689830</td>\n",
       "      <td>-0.769031</td>\n",
       "      <td>-0.552509</td>\n",
       "      <td>-0.208828</td>\n",
       "      <td>-0.644221</td>\n",
       "      <td>...</td>\n",
       "      <td>-0.228305</td>\n",
       "      <td>-0.542700</td>\n",
       "      <td>-0.161703</td>\n",
       "      <td>-0.354453</td>\n",
       "      <td>-0.317485</td>\n",
       "      <td>-0.326763</td>\n",
       "      <td>-0.070641</td>\n",
       "      <td>-0.052818</td>\n",
       "      <td>5.600000</td>\n",
       "      <td>0.000000</td>\n",
       "    </tr>\n",
       "    <tr>\n",
       "      <th>50%</th>\n",
       "      <td>84692.500000</td>\n",
       "      <td>0.020384</td>\n",
       "      <td>0.063949</td>\n",
       "      <td>0.179963</td>\n",
       "      <td>-0.022248</td>\n",
       "      <td>-0.053468</td>\n",
       "      <td>-0.275168</td>\n",
       "      <td>0.040859</td>\n",
       "      <td>0.021898</td>\n",
       "      <td>-0.052596</td>\n",
       "      <td>...</td>\n",
       "      <td>-0.029441</td>\n",
       "      <td>0.006675</td>\n",
       "      <td>-0.011159</td>\n",
       "      <td>0.041016</td>\n",
       "      <td>0.016278</td>\n",
       "      <td>-0.052172</td>\n",
       "      <td>0.001479</td>\n",
       "      <td>0.011288</td>\n",
       "      <td>22.000000</td>\n",
       "      <td>0.000000</td>\n",
       "    </tr>\n",
       "    <tr>\n",
       "      <th>75%</th>\n",
       "      <td>139298.000000</td>\n",
       "      <td>1.316068</td>\n",
       "      <td>0.800283</td>\n",
       "      <td>1.026960</td>\n",
       "      <td>0.739647</td>\n",
       "      <td>0.612218</td>\n",
       "      <td>0.396792</td>\n",
       "      <td>0.570474</td>\n",
       "      <td>0.325704</td>\n",
       "      <td>0.595977</td>\n",
       "      <td>...</td>\n",
       "      <td>0.186194</td>\n",
       "      <td>0.528245</td>\n",
       "      <td>0.147748</td>\n",
       "      <td>0.439738</td>\n",
       "      <td>0.350667</td>\n",
       "      <td>0.240261</td>\n",
       "      <td>0.091208</td>\n",
       "      <td>0.078276</td>\n",
       "      <td>77.510000</td>\n",
       "      <td>0.000000</td>\n",
       "    </tr>\n",
       "    <tr>\n",
       "      <th>max</th>\n",
       "      <td>172792.000000</td>\n",
       "      <td>2.454930</td>\n",
       "      <td>22.057729</td>\n",
       "      <td>9.382558</td>\n",
       "      <td>16.875344</td>\n",
       "      <td>34.801666</td>\n",
       "      <td>73.301626</td>\n",
       "      <td>120.589494</td>\n",
       "      <td>20.007208</td>\n",
       "      <td>15.594995</td>\n",
       "      <td>...</td>\n",
       "      <td>27.202839</td>\n",
       "      <td>10.503090</td>\n",
       "      <td>22.528412</td>\n",
       "      <td>4.584549</td>\n",
       "      <td>7.519589</td>\n",
       "      <td>3.517346</td>\n",
       "      <td>31.612198</td>\n",
       "      <td>33.847808</td>\n",
       "      <td>25691.160000</td>\n",
       "      <td>1.000000</td>\n",
       "    </tr>\n",
       "  </tbody>\n",
       "</table>\n",
       "<p>8 rows × 31 columns</p>\n",
       "</div>"
      ],
      "text/plain": [
       "                Time             V1             V2             V3  \\\n",
       "count  283726.000000  283726.000000  283726.000000  283726.000000   \n",
       "mean    94811.077600       0.005917      -0.004135       0.001613   \n",
       "std     47481.047891       1.948026       1.646703       1.508682   \n",
       "min         0.000000     -56.407510     -72.715728     -48.325589   \n",
       "25%     54204.750000      -0.915951      -0.600321      -0.889682   \n",
       "50%     84692.500000       0.020384       0.063949       0.179963   \n",
       "75%    139298.000000       1.316068       0.800283       1.026960   \n",
       "max    172792.000000       2.454930      22.057729       9.382558   \n",
       "\n",
       "                  V4             V5             V6             V7  \\\n",
       "count  283726.000000  283726.000000  283726.000000  283726.000000   \n",
       "mean       -0.002966       0.001828      -0.001139       0.001801   \n",
       "std         1.414184       1.377008       1.331931       1.227664   \n",
       "min        -5.683171    -113.743307     -26.160506     -43.557242   \n",
       "25%        -0.850134      -0.689830      -0.769031      -0.552509   \n",
       "50%        -0.022248      -0.053468      -0.275168       0.040859   \n",
       "75%         0.739647       0.612218       0.396792       0.570474   \n",
       "max        16.875344      34.801666      73.301626     120.589494   \n",
       "\n",
       "                  V8             V9  ...            V21            V22  \\\n",
       "count  283726.000000  283726.000000  ...  283726.000000  283726.000000   \n",
       "mean       -0.000854      -0.001596  ...      -0.000371      -0.000015   \n",
       "std         1.179054       1.095492  ...       0.723909       0.724550   \n",
       "min       -73.216718     -13.434066  ...     -34.830382     -10.933144   \n",
       "25%        -0.208828      -0.644221  ...      -0.228305      -0.542700   \n",
       "50%         0.021898      -0.052596  ...      -0.029441       0.006675   \n",
       "75%         0.325704       0.595977  ...       0.186194       0.528245   \n",
       "max        20.007208      15.594995  ...      27.202839      10.503090   \n",
       "\n",
       "                 V23            V24            V25            V26  \\\n",
       "count  283726.000000  283726.000000  283726.000000  283726.000000   \n",
       "mean        0.000198       0.000214      -0.000232       0.000149   \n",
       "std         0.623702       0.605627       0.521220       0.482053   \n",
       "min       -44.807735      -2.836627     -10.295397      -2.604551   \n",
       "25%        -0.161703      -0.354453      -0.317485      -0.326763   \n",
       "50%        -0.011159       0.041016       0.016278      -0.052172   \n",
       "75%         0.147748       0.439738       0.350667       0.240261   \n",
       "max        22.528412       4.584549       7.519589       3.517346   \n",
       "\n",
       "                 V27            V28         Amount          Class  \n",
       "count  283726.000000  283726.000000  283726.000000  283726.000000  \n",
       "mean        0.001763       0.000547      88.472687       0.001667  \n",
       "std         0.395744       0.328027     250.399437       0.040796  \n",
       "min       -22.565679     -15.430084       0.000000       0.000000  \n",
       "25%        -0.070641      -0.052818       5.600000       0.000000  \n",
       "50%         0.001479       0.011288      22.000000       0.000000  \n",
       "75%         0.091208       0.078276      77.510000       0.000000  \n",
       "max        31.612198      33.847808   25691.160000       1.000000  \n",
       "\n",
       "[8 rows x 31 columns]"
      ]
     },
     "execution_count": 6,
     "metadata": {},
     "output_type": "execute_result"
    }
   ],
   "source": [
    "df.describe()"
   ]
  },
  {
   "cell_type": "markdown",
   "id": "d5a02b13-694f-4b54-a6a8-e143e9754bc9",
   "metadata": {},
   "source": [
    "#  Feature Scaling"
   ]
  },
  {
   "cell_type": "markdown",
   "id": "996a4d63-7389-43b7-9707-b18970d0544b",
   "metadata": {},
   "source": [
    "Here, V1 to V28 is mostly PCA-transformed, but 'Amount' and 'Time' needs scaling. So, we'll use StandardScaler to normalize it."
   ]
  },
  {
   "cell_type": "code",
   "execution_count": 7,
   "id": "db23afc9-d930-4a1f-8e0a-ba899fbf2b25",
   "metadata": {},
   "outputs": [],
   "source": [
    "scaler = StandardScaler()\n",
    "\n",
    "df['Amount'] = scaler.fit_transform(df[['Amount']])\n",
    "df['Time'] = scaler.fit_transform(df[['Time']])\n"
   ]
  },
  {
   "cell_type": "markdown",
   "id": "5db89464-b659-4498-a4d5-df6a0dcb6f13",
   "metadata": {},
   "source": [
    "# Splitting Data (Train/Test)"
   ]
  },
  {
   "cell_type": "code",
   "execution_count": 8,
   "id": "ca6e02dc-b66f-4839-bbe9-b3bbe2d7d651",
   "metadata": {},
   "outputs": [
    {
     "name": "stdout",
     "output_type": "stream",
     "text": [
      "Training set: (226980, 30), Testing set: (56746, 30)\n"
     ]
    }
   ],
   "source": [
    "X = df.drop(columns=['Class'])  # Features\n",
    "y = df['Class']  # Target\n",
    "\n",
    "# Split into training and testing sets\n",
    "X_train, X_test, y_train, y_test = train_test_split(X, y, test_size=0.2, random_state=42, stratify=y)\n",
    "\n",
    "print(f\"Training set: {X_train.shape}, Testing set: {X_test.shape}\")\n"
   ]
  },
  {
   "cell_type": "code",
   "execution_count": 9,
   "id": "bb7e455c-5241-4b63-adf1-5a0c2f993280",
   "metadata": {},
   "outputs": [
    {
     "data": {
      "image/png": "[encoded data removed]",
      "text/plain": [
       "<Figure size 1000x500 with 1 Axes>"
      ]
     },
     "metadata": {},
     "output_type": "display_data"
    }
   ],
   "source": [
    "# Get feature importance from the trained Random Forest model to select top features\n",
    "rf = RandomForestClassifier(n_estimators=100, random_state=42)\n",
    "rf.fit(X_train, y_train)\n",
    "feature_importance = rf.feature_importances_\n",
    "\n",
    "# Convert to DataFrame\n",
    "features = pd.DataFrame({'Feature': X_train.columns, 'Importance': feature_importance})\n",
    "\n",
    "# Sort by importance\n",
    "features = features.sort_values(by=\"Importance\", ascending=False)\n",
    "\n",
    "# Plot feature importance\n",
    "plt.figure(figsize=(10, 5))\n",
    "sns.barplot(x=features.Importance[:10], y=features.Feature[:10])\n",
    "plt.title(\"Top 10 Important Features (Random Forest)\")\n",
    "plt.show()\n"
   ]
  },
  {
   "cell_type": "markdown",
   "id": "e5d8fe01-bf92-4d00-8173-878d00c9805d",
   "metadata": {},
   "source": [
    "We can see from above plot that these features have the most influence on the model's ability to distinguish between genuine and fraudulent transactions."
   ]
  },
  {
   "cell_type": "code",
   "execution_count": 10,
   "id": "7345bd8d-6cab-49ea-8c81-67dff3b2fc3c",
   "metadata": {},
   "outputs": [
    {
     "name": "stdout",
     "output_type": "stream",
     "text": [
      "Top 10 Features Selected: ['V17', 'V14', 'V12', 'V10', 'V16', 'V11', 'V9', 'V18', 'V4', 'V7']\n"
     ]
    }
   ],
   "source": [
    "# Select top 10 features based on importance\n",
    "top_features = features.Feature[:10].tolist()\n",
    "print(\"Top 10 Features Selected:\", top_features)"
   ]
  },
  {
   "cell_type": "code",
   "execution_count": 11,
   "id": "4a51230e-5fe7-495d-bddf-640caba17e19",
   "metadata": {},
   "outputs": [],
   "source": [
    "#Retrain Model on Selected Features\n",
    "X_train_selected = X_train[top_features]\n",
    "X_test_selected = X_test[top_features]"
   ]
  },
  {
   "cell_type": "code",
   "execution_count": 12,
   "id": "9cdebe3a-429e-4c1c-a44a-3fc56865051b",
   "metadata": {},
   "outputs": [
    {
     "name": "stdout",
     "output_type": "stream",
     "text": [
      "Class distribution after SMOTE:\n",
      "Class\n",
      "0    226602\n",
      "1    226602\n",
      "Name: count, dtype: int64\n"
     ]
    }
   ],
   "source": [
    "# Handling Class Imbalance using SMOTE (Oversampling Fraud Cases)\n",
    "# Creates synthetic fraud cases to balance the dataset.\n",
    "#We have used SMOTE as fraud data is very limited.\n",
    "\n",
    "smote = SMOTE(random_state=42)\n",
    "X_train_sm, y_train_sm = smote.fit_resample(X_train_selected, y_train)\n",
    "\n",
    "print(\"Class distribution after SMOTE:\")\n",
    "print(pd.Series(y_train_sm).value_counts())"
   ]
  },
  {
   "cell_type": "markdown",
   "id": "3ee4adfd-4e48-4cba-ab67-6c6e119a4229",
   "metadata": {},
   "source": [
    "This shows that after SMOTE, both classes are now perfectly balanced in the training set. Initially, the fraudulent transactions were far low than the genuine transactions, but SMOTE generated synthetic data points for the fraud class, increasing its size to match that of the genuine class. "
   ]
  },
  {
   "cell_type": "code",
   "execution_count": 13,
   "id": "c96798f1-9122-44f6-b6a0-adf85185f648",
   "metadata": {},
   "outputs": [
    {
     "data": {
      "text/plain": [
       "(453204, 10)"
      ]
     },
     "execution_count": 13,
     "metadata": {},
     "output_type": "execute_result"
    }
   ],
   "source": [
    "X_train_sm.shape"
   ]
  },
  {
   "cell_type": "code",
   "execution_count": 14,
   "id": "ff6ceeb8-5f98-4900-aea0-6dec22357ecf",
   "metadata": {},
   "outputs": [
    {
     "data": {
      "text/plain": [
       "(453204,)"
      ]
     },
     "execution_count": 14,
     "metadata": {},
     "output_type": "execute_result"
    }
   ],
   "source": [
    "y_train_sm.shape"
   ]
  },
  {
   "cell_type": "code",
   "execution_count": 15,
   "id": "1789eb71-b4e7-4b17-83da-cc88a7616886",
   "metadata": {},
   "outputs": [
    {
     "name": "stdout",
     "output_type": "stream",
     "text": [
      "Performance of RF with Selected Features:\n",
      "              precision    recall  f1-score   support\n",
      "\n",
      "           0       1.00      1.00      1.00     56651\n",
      "           1       0.83      0.78      0.80        95\n",
      "\n",
      "    accuracy                           1.00     56746\n",
      "   macro avg       0.92      0.89      0.90     56746\n",
      "weighted avg       1.00      1.00      1.00     56746\n",
      "\n",
      "\n",
      " Performance of XGB with Selected Features:\n",
      "              precision    recall  f1-score   support\n",
      "\n",
      "           0       1.00      1.00      1.00     56651\n",
      "           1       0.47      0.80      0.60        95\n",
      "\n",
      "    accuracy                           1.00     56746\n",
      "   macro avg       0.74      0.90      0.80     56746\n",
      "weighted avg       1.00      1.00      1.00     56746\n",
      "\n"
     ]
    }
   ],
   "source": [
    "# Train a new Random Forest and Extreme Gradient Boosting model\n",
    "best_rf_selected = RandomForestClassifier(n_estimators=100, random_state=42)\n",
    "best_rf_selected.fit(X_train_sm, y_train_sm)\n",
    "\n",
    "xgb_selected = XGBClassifier(use_label_encoder=False, eval_metric=\"logloss\")\n",
    "xgb_selected.fit(X_train_sm, y_train_sm)\n",
    "\n",
    "# Predict and evaluate\n",
    "y_pred_rf_selected = best_rf_selected.predict(X_test_selected)\n",
    "print(\"Performance of RF with Selected Features:\")\n",
    "print(classification_report(y_test, y_pred_rf_selected))\n",
    "\n",
    "y_pred_xgb_selected = xgb_selected.predict(X_test_selected)\n",
    "print(\"\\n Performance of XGB with Selected Features:\")\n",
    "print(classification_report(y_test, y_pred_xgb_selected))"
   ]
  },
  {
   "cell_type": "markdown",
   "id": "2df4b1b0-0e35-48f4-9849-52777aa28c4d",
   "metadata": {},
   "source": [
    "The F1-score for RF (0.80) is higher than XGBoost (0.60), meaning that it provides a better balance between precision and recall. Also, RF has a higher precision (0.83) for fraud detection, which means that when it predicts fraud, it’s correct 83% of the time. Hence, it can minimize the risk of falsely accusing legitimate transactions of being fraud."
   ]
  },
  {
   "cell_type": "code",
   "execution_count": 16,
   "id": "3bc70e26-f420-4736-9c88-a2fea84d9283",
   "metadata": {},
   "outputs": [
    {
     "name": "stdout",
     "output_type": "stream",
     "text": [
      "0.8043478260869565\n",
      "0.596078431372549\n"
     ]
    }
   ],
   "source": [
    "from sklearn.metrics import f1_score\n",
    "print(f1_score(y_test, y_pred_rf_selected))\n",
    "print(f1_score(y_test, y_pred_xgb_selected))"
   ]
  },
  {
   "cell_type": "code",
   "execution_count": 17,
   "id": "97838d33-e337-4ad2-9fbc-39e3ffe48862",
   "metadata": {},
   "outputs": [
    {
     "name": "stdout",
     "output_type": "stream",
     "text": [
      "0.999365594050682\n",
      "0.9981848940894512\n"
     ]
    }
   ],
   "source": [
    "from sklearn.metrics import accuracy_score\n",
    "print(accuracy_score(y_test, y_pred_rf_selected))\n",
    "print(accuracy_score(y_test, y_pred_xgb_selected))"
   ]
  },
  {
   "cell_type": "code",
   "execution_count": 18,
   "id": "888fb988-b470-4867-9121-ec060581663f",
   "metadata": {},
   "outputs": [
    {
     "name": "stdout",
     "output_type": "stream",
     "text": [
      "Logistic Regression Model Performance:\n",
      "              precision    recall  f1-score   support\n",
      "\n",
      "           0       1.00      0.97      0.99     56651\n",
      "           1       0.05      0.86      0.10        95\n",
      "\n",
      "    accuracy                           0.97     56746\n",
      "   macro avg       0.53      0.92      0.54     56746\n",
      "weighted avg       1.00      0.97      0.99     56746\n",
      "\n"
     ]
    }
   ],
   "source": [
    "from sklearn.linear_model import LogisticRegression\n",
    "\n",
    "# Initialize and train Logistic Regression model\n",
    "log_reg = LogisticRegression(max_iter=1000)\n",
    "# log_reg.fit(X_train_sm, y_train_sm)\n",
    "log_reg.fit(X_train_sm, y_train_sm)\n",
    "\n",
    "# Make predictions\n",
    "y_pred_lr = log_reg.predict(X_test_selected)\n",
    "\n",
    "# Evaluate model\n",
    "print(\"Logistic Regression Model Performance:\")\n",
    "print(classification_report(y_test, y_pred_lr))\n"
   ]
  },
  {
   "cell_type": "code",
   "execution_count": 19,
   "id": "0e9d30f9-5d72-455d-8020-61240a22308f",
   "metadata": {},
   "outputs": [
    {
     "name": "stdout",
     "output_type": "stream",
     "text": [
      "0.09861695730607337\n",
      "0.9735840411658971\n"
     ]
    }
   ],
   "source": [
    "print(f1_score(y_test, y_pred_lr))\n",
    "print(accuracy_score(y_test, y_pred_lr))"
   ]
  },
  {
   "cell_type": "code",
   "execution_count": 20,
   "id": "12831111-7c2e-4a19-9233-0c7a5cf3b4ca",
   "metadata": {},
   "outputs": [
    {
     "name": "stdout",
     "output_type": "stream",
     "text": [
      "Fitting 3 folds for each of 12 candidates, totalling 36 fits\n",
      "Best Hyperparameters for Random Forest: {'max_depth': None, 'n_estimators': 100}\n",
      "Improved Random Forest Performance:\n",
      "              precision    recall  f1-score   support\n",
      "\n",
      "           0       1.00      1.00      1.00     56651\n",
      "           1       0.83      0.78      0.80        95\n",
      "\n",
      "    accuracy                           1.00     56746\n",
      "   macro avg       0.92      0.89      0.90     56746\n",
      "weighted avg       1.00      1.00      1.00     56746\n",
      "\n"
     ]
    }
   ],
   "source": [
    "# Hyperparameter Tuning After Feature Selection\n",
    "# Define Random Forest Hyperparameter Grid\n",
    "from sklearn.model_selection import GridSearchCV\n",
    "param_grid_rf = {\n",
    "\n",
    "\n",
    "    \n",
    "    'n_estimators': [50, 100, 200],\n",
    "    'max_depth': [None, 10, 20, 30],\n",
    "    # 'min_samples_split': [2, 5, 10]\n",
    "}\n",
    "\n",
    "# GridSearchCV for Random Forest\n",
    "grid_search_rf = GridSearchCV(best_rf_selected, param_grid_rf, cv=3, scoring='f1', verbose=2, n_jobs=-1)\n",
    "grid_search_rf.fit(X_train_sm, y_train_sm)\n",
    "print(\"Best Hyperparameters for Random Forest:\", grid_search_rf.best_params_)\n",
    "\n",
    "# Train Random Forest with best parameters\n",
    "best_rf = grid_search_rf.best_estimator_\n",
    "y_pred_rf_best = best_rf.predict(X_test_selected)\n",
    "\n",
    "# Evaluate Random Forest with selected features\n",
    "print(\"Improved Random Forest Performance:\")\n",
    "print(classification_report(y_test, y_pred_rf_best))\n"
   ]
  },
  {
   "cell_type": "markdown",
   "id": "eecad260-3e66-44b1-aec7-768e534449a0",
   "metadata": {},
   "source": [
    "Since there is no change while hyperparameter tuning, it seems Random Forest model might be performing well enough on this dataset that and didn't lead to a substantial improvement."
   ]
  },
  {
   "cell_type": "code",
   "execution_count": 21,
   "id": "4708003d-95b9-4d87-82ee-cbb5d4486f61",
   "metadata": {},
   "outputs": [
    {
     "name": "stdout",
     "output_type": "stream",
     "text": [
      "0.8043478260869565\n",
      "0.999365594050682\n"
     ]
    }
   ],
   "source": [
    "print(f1_score(y_test, y_pred_rf_best))\n",
    "print(accuracy_score(y_test, y_pred_rf_best))"
   ]
  },
  {
   "cell_type": "code",
   "execution_count": 22,
   "id": "e9fbbf62-c49a-43f0-8a12-10adf3822d6d",
   "metadata": {},
   "outputs": [
    {
     "name": "stdout",
     "output_type": "stream",
     "text": [
      "Fitting 3 folds for each of 9 candidates, totalling 27 fits\n",
      "Best Hyperparameters for XGBoost: {'n_estimators': 200, 'learning_rate': 0.2}\n",
      "Improved XGBoost Performance:\n",
      "              precision    recall  f1-score   support\n",
      "\n",
      "           0       1.00      1.00      1.00     56651\n",
      "           1       0.55      0.79      0.65        95\n",
      "\n",
      "    accuracy                           1.00     56746\n",
      "   macro avg       0.77      0.89      0.82     56746\n",
      "weighted avg       1.00      1.00      1.00     56746\n",
      "\n"
     ]
    }
   ],
   "source": [
    "from sklearn.model_selection import RandomizedSearchCV\n",
    "# Define XGBoost Hyperparameter Grid\n",
    "param_dist_xgb = {\n",
    "    'n_estimators': [50, 100, 200],\n",
    "    'learning_rate': [0.01, 0.1, 0.2],\n",
    "    # 'max_depth': [3, 6, 10]\n",
    "}\n",
    "\n",
    "# RandomizedSearchCV for XGBoost\n",
    "random_search_xgb = RandomizedSearchCV(xgb_selected, param_dist_xgb, cv=3, scoring='f1', n_iter=10, verbose=2, n_jobs=-1, random_state=42)\n",
    "random_search_xgb.fit(X_train_sm, y_train_sm)\n",
    "print(\"Best Hyperparameters for XGBoost:\", random_search_xgb.best_params_)\n",
    "\n",
    "# Train XGBoost with best parameters\n",
    "best_xgb = random_search_xgb.best_estimator_\n",
    "y_pred_xgb_best = best_xgb.predict(X_test_selected)\n",
    "\n",
    "# Evaluate XGBoost with selected features\n",
    "print(\"Improved XGBoost Performance:\")\n",
    "print(classification_report(y_test, y_pred_xgb_best))"
   ]
  },
  {
   "cell_type": "code",
   "execution_count": 23,
   "id": "b5cd78a8-1ee6-45ee-8103-409189c21261",
   "metadata": {},
   "outputs": [
    {
     "name": "stdout",
     "output_type": "stream",
     "text": [
      "0.646551724137931\n",
      "0.9985549642265534\n"
     ]
    }
   ],
   "source": [
    "print(f1_score(y_test, y_pred_xgb_best))\n",
    "print(accuracy_score(y_test, y_pred_xgb_best))"
   ]
  },
  {
   "cell_type": "code",
   "execution_count": 24,
   "id": "07b4540e-2f1e-40d0-9d5f-914a4780b0a2",
   "metadata": {},
   "outputs": [
    {
     "name": "stdout",
     "output_type": "stream",
     "text": [
      "Ensemble Model Performance:\n",
      "              precision    recall  f1-score   support\n",
      "\n",
      "           0       1.00      1.00      1.00     56651\n",
      "           1       0.68      0.81      0.74        95\n",
      "\n",
      "    accuracy                           1.00     56746\n",
      "   macro avg       0.84      0.90      0.87     56746\n",
      "weighted avg       1.00      1.00      1.00     56746\n",
      "\n"
     ]
    }
   ],
   "source": [
    "# Ensemble Learning (Combining Multiple Models)\n",
    "from sklearn.ensemble import VotingClassifier\n",
    "\n",
    "# Define models\n",
    "models = [\n",
    "    ('Random Forest', best_rf),\n",
    "    ('XGBoost', best_xgb),\n",
    "    ('Logistic Regression', log_reg)\n",
    "]\n",
    "\n",
    "# Create ensemble model\n",
    "ensemble = VotingClassifier(estimators=models, voting='soft')\n",
    "ensemble.fit(X_train_sm, y_train_sm)\n",
    "\n",
    "# Predict and evaluate\n",
    "y_pred_ensemble = ensemble.predict(X_test_selected)\n",
    "print(\"Ensemble Model Performance:\")\n",
    "print(classification_report(y_test, y_pred_ensemble))\n"
   ]
  },
  {
   "cell_type": "markdown",
   "id": "876b830f-16b5-46ae-ad18-798dc68d9cc6",
   "metadata": {},
   "source": [
    "Here, we combined Random Forest, XGBoost, and Logistic Regression into one powerful model using a VotingClassifier with soft voting. Each model has its own strengths—Random Forest handles imbalanced data well, XGBoost is great for boosting recall, and Logistic Regression helps with linear separability and easy interpretation. Instead of just picking the most common prediction (hard voting), soft voting averages the predicted probabilities, so models that are more confident in their predictions have more influence. To deal with the imbalance in fraud cases, we use SMOTE (Synthetic Minority Over-sampling Technique) to create more fraud samples and make the model learn better. By combining multiple models, we reduce overfitting, make the predictions more generalizable, and improve overall accuracy, precision, and recall, especially for those rare fraud cases.\n",
    "\n",
    "Comparison with Previous Models:\n",
    "The ensemble model outperforms individual models, particularly in recall (81%), meaning it detects more fraud cases than Random Forest (78%) and XGBoost (80%). While the precision is slightly lower than Random Forest (83%), the recall boost makes it more reliable for real-world fraud detection."
   ]
  },
  {
   "cell_type": "code",
   "execution_count": 25,
   "id": "af19d97b-4585-4fc6-957b-71c15414f79c",
   "metadata": {},
   "outputs": [
    {
     "name": "stdout",
     "output_type": "stream",
     "text": [
      "0.7368421052631579\n",
      "0.9990307686885419\n"
     ]
    }
   ],
   "source": [
    "print(f1_score(y_test, y_pred_ensemble))\n",
    "print(accuracy_score(y_test, y_pred_ensemble))"
   ]
  },
  {
   "cell_type": "code",
   "execution_count": 28,
   "id": "3f015006-556e-4fe6-a0d8-b1b7c9fa9f20",
   "metadata": {},
   "outputs": [
    {
     "data": {
      "image/png": "[encoded data removed]",
      "text/plain": [
       "<Figure size 640x480 with 1 Axes>"
      ]
     },
     "metadata": {},
     "output_type": "display_data"
    }
   ],
   "source": [
    "# Threshold Tuning to reduce False Positives\n",
    "# Instead of using 0.5 as the default threshold for fraud classification, we can adjust it based on Precision-Recall tradeoff.\n",
    "from sklearn.metrics import precision_recall_curve\n",
    "\n",
    "# Get probability predictions\n",
    "y_probs = best_rf.predict_proba(X_test_selected)[:, 1]\n",
    "\n",
    "# Compute precision-recall curve\n",
    "precision, recall, thresholds = precision_recall_curve(y_test, y_probs)\n",
    "\n",
    "# Plot Precision-Recall curve\n",
    "plt.plot(thresholds, precision[:-1], label='Precision')\n",
    "plt.plot(thresholds, recall[:-1], label='Recall')\n",
    "plt.xlabel('Threshold')\n",
    "plt.ylabel('Score')\n",
    "plt.title('Precision-Recall vs Threshold')\n",
    "plt.legend()\n",
    "plt.savefig(\"precision-recall.png\")\n",
    "plt.show()"
   ]
  },
  {
   "cell_type": "markdown",
   "id": "7ed72fc8-5e64-4ba8-9c75-84fcf748818b",
   "metadata": {},
   "source": [
    "in this plot X-axis (Threshold) is the decision boundary for classifying a transaction as fraud whereas Y-axis (Score) has Precision (blue) and Recall (orange).\n",
    "\n",
    "Tradeoff: As the threshold increases, precision increases but recall decreases. A lower threshold captures more fraud cases (higher recall) but may increase false positives (lower precision).\n",
    "A higher threshold reduces false positives (higher precision) but may miss fraud cases (lower recall)."
   ]
  },
  {
   "cell_type": "code",
   "execution_count": 29,
   "id": "4cbaf970-5778-4810-b447-823c6d977783",
   "metadata": {},
   "outputs": [
    {
     "name": "stdout",
     "output_type": "stream",
     "text": [
      "Performance with Custom Threshold:\n",
      "              precision    recall  f1-score   support\n",
      "\n",
      "           0       1.00      1.00      1.00     56651\n",
      "           1       0.57      0.81      0.67        95\n",
      "\n",
      "    accuracy                           1.00     56746\n",
      "   macro avg       0.79      0.90      0.84     56746\n",
      "weighted avg       1.00      1.00      1.00     56746\n",
      "\n"
     ]
    }
   ],
   "source": [
    "# Set new threshold (e.g., 0.3 instead of 0.5) after visualizing\n",
    "custom_threshold = 0.3\n",
    "y_pred_custom = (y_probs >= custom_threshold).astype(int)\n",
    "\n",
    "# Evaluate new threshold\n",
    "print(\"Performance with Custom Threshold:\")\n",
    "print(classification_report(y_test, y_pred_custom))"
   ]
  },
  {
   "cell_type": "markdown",
   "id": "6d9f586d-0776-4904-a5c3-9986e69348af",
   "metadata": {},
   "source": [
    "Changing the classification threshold (e.g., from 0.5 to 0.3) affects how the model makes predictions. A lower threshold means the model is more likely to label something as fraud (class 1), which can help catch more fraud cases (increasing recall) but also cause more mistakes, like labeling genuine cases as fraud (lowering precision). This is useful in cases like fraud detection, where it's better to catch as many frauds as possible, even if it means some mistakes. The threshold also affects other measures, like F1-score, which balances both recall and precision."
   ]
  },
  {
   "cell_type": "code",
   "execution_count": 30,
   "id": "3ed3bf1e-c90f-48fd-9e7c-888667a49257",
   "metadata": {},
   "outputs": [
    {
     "data": {
      "text/plain": [
       "['ensemble_model.pkl']"
      ]
     },
     "execution_count": 30,
     "metadata": {},
     "output_type": "execute_result"
    }
   ],
   "source": [
    "import joblib\n",
    "\n",
    "# Save the model\n",
    "joblib.dump(best_rf, \"random_forest_model.pkl\") \n",
    "joblib.dump(ensemble, \"ensemble_model.pkl\") "
   ]
  },
  {
   "cell_type": "code",
   "execution_count": 31,
   "id": "cf8cd2e6-d4bf-4fec-8086-7be280032447",
   "metadata": {},
   "outputs": [],
   "source": [
    "loaded_rf = joblib.load(\"random_forest_model.pkl\")\n",
    "loaded_ensemble= joblib.load(\"ensemble_model.pkl\")"
   ]
  },
  {
   "cell_type": "code",
   "execution_count": 32,
   "id": "ce8d7564-db3a-4c60-a06c-4591b74d133a",
   "metadata": {},
   "outputs": [
    {
     "name": "stdout",
     "output_type": "stream",
     "text": [
      "\n",
      " Enter transaction details for fraud detection \n"
     ]
    },
    {
     "name": "stdin",
     "output_type": "stream",
     "text": [
      "Enter value for V17:  -10.246755\n",
      "Enter value for V14:  -8.138695\n",
      "Enter value for V12:  -11.349029\n",
      "Enter value for V10:  -4.594952\n",
      "Enter value for V16:  -6.653594\n",
      "Enter value for V11:  5.275506\n",
      "Enter value for V9:  -1.498468\n",
      "Enter value for V18:  -4.191066\n",
      "Enter value for V4:  5.467685\n",
      "Enter value for V7:   -4.104215\n"
     ]
    },
    {
     "name": "stdout",
     "output_type": "stream",
     "text": [
      "\n",
      " **Fraud Detection Prediction** \n",
      "Prediction: Fraud\n",
      "Fraud Probability: 1.00\n"
     ]
    }
   ],
   "source": [
    "def predict_fraud():\n",
    "    print(\"\\n Enter transaction details for fraud detection \")\n",
    "    \n",
    "    # Dictionary to store user input\n",
    "    user_input = {}\n",
    "\n",
    "    # Prompt user for each selected feature\n",
    "    for feature in top_features:\n",
    "        value = float(input(f\"Enter value for {feature}: \"))\n",
    "        user_input[feature] = value\n",
    "\n",
    "    # Convert to DataFrame\n",
    "    new_transaction = pd.DataFrame([user_input])\n",
    "    \n",
    "\n",
    "    # Ensure columns match training data\n",
    "    new_transaction = new_transaction.reindex(columns=top_features, fill_value=0)\n",
    "\n",
    "\n",
    "    # Standardize input data\n",
    "    # new_transaction_scaled = scaler.transform(new_transaction)\n",
    "\n",
    "    # Make predictions\n",
    "    prediction = loaded_rf.predict(new_transaction)\n",
    "    prediction_prob = loaded_rf.predict_proba(new_transaction)[:, 1]\n",
    "\n",
    "    \n",
    "\n",
    "    # Print results\n",
    "    print(\"\\n **Fraud Detection Prediction** \")\n",
    "    print(f\"Prediction: {'Fraud' if prediction[0] == 1 else 'Genuine'}\")\n",
    "    print(f\"Fraud Probability: {prediction_prob[0]:.2f}\")\n",
    "\n",
    "# Run the prediction function\n",
    "predict_fraud()\n"
   ]
  },
  {
   "cell_type": "code",
   "execution_count": null,
   "id": "0dd005a0-ed8f-4040-86aa-b3f34867e51f",
   "metadata": {},
   "outputs": [],
   "source": [
    "# V17   -10.246755\n",
    "# V14    -8.138695\n",
    "# V12   -11.349029\n",
    "# V10    -4.594952\n",
    "# V16    -6.653594\n",
    "# V11     5.275506\n",
    "# V9     -1.498468\n",
    "# V18    -4.191066\n",
    "# V4      5.467685\n",
    "# V7     -4.104215\n",
    "# a fraud case sample from given data "
   ]
  },
  {
   "cell_type": "code",
   "execution_count": 34,
   "id": "f0731872-1d7c-445f-ac8f-d2fd5e2e03bb",
   "metadata": {},
   "outputs": [
    {
     "name": "stdout",
     "output_type": "stream",
     "text": [
      "\n",
      " Enter transaction details for fraud detection using ensemble\n"
     ]
    },
    {
     "name": "stdin",
     "output_type": "stream",
     "text": [
      "Enter value for V17:  1\n",
      "Enter value for V14:  2\n",
      "Enter value for V12:  3\n",
      "Enter value for V10:  4\n",
      "Enter value for V16:  5\n",
      "Enter value for V11:  6\n",
      "Enter value for V9:  7\n",
      "Enter value for V18:  8\n",
      "Enter value for V4:  9\n",
      "Enter value for V7:  3\n"
     ]
    },
    {
     "name": "stdout",
     "output_type": "stream",
     "text": [
      "\n",
      " **Fraud Detection Prediction Using Ensemble** \n",
      "Prediction: Genuine\n",
      "Fraud Probability: 0.11\n"
     ]
    }
   ],
   "source": [
    "def predict_fraud():\n",
    "    print(\"\\n Enter transaction details for fraud detection using ensemble\")\n",
    "    \n",
    "    # Dictionary to store user input\n",
    "    user_input = {}\n",
    "\n",
    "    # Prompt user for each selected feature\n",
    "    for feature in top_features:\n",
    "        value = float(input(f\"Enter value for {feature}: \"))\n",
    "        user_input[feature] = value\n",
    "\n",
    "    # Convert to DataFrame\n",
    "    new_transaction = pd.DataFrame([user_input])\n",
    "    \n",
    "\n",
    "    # Ensure columns match training data\n",
    "    new_transaction = new_transaction.reindex(columns=top_features, fill_value=0)\n",
    "\n",
    "    # Make predictions\n",
    "    prediction = loaded_ensemble.predict(new_transaction)\n",
    "    prediction_prob = loaded_ensemble.predict_proba(new_transaction)[:, 1]\n",
    "    \n",
    "    # Print results\n",
    "    print(\"\\n **Fraud Detection Prediction Using Ensemble** \")\n",
    "    print(f\"Prediction: {'Fraud' if prediction[0] == 1 else 'Genuine'}\")\n",
    "    print(f\"Fraud Probability: {prediction_prob[0]:.2f}\")\n",
    "\n",
    "# Run the prediction function\n",
    "predict_fraud()\n"
   ]
  },
  {
   "cell_type": "code",
   "execution_count": null,
   "id": "198cf232-6015-4618-a297-58075951fe15",
   "metadata": {},
   "outputs": [],
   "source": [
    "# y_train_sm[y_train_sm == 1].index[250]"
   ]
  },
  {
   "cell_type": "code",
   "execution_count": null,
   "id": "cdc67e60-50a6-4632-bcc4-cacd4161a434",
   "metadata": {},
   "outputs": [],
   "source": [
    "# loaded_rf.predict(pd.DataFrame(X_train_sm.iloc[226238]).T)"
   ]
  },
  {
   "cell_type": "code",
   "execution_count": null,
   "id": "b87af928-321d-438f-b79e-dc86b47bb203",
   "metadata": {},
   "outputs": [],
   "source": [
    "# loaded_rf.predict(pd.DataFrame(X_train_sm.iloc[159179]).T)"
   ]
  },
  {
   "cell_type": "code",
   "execution_count": null,
   "id": "5423ff99-63f0-41fe-b939-bf6a64a1c325",
   "metadata": {},
   "outputs": [],
   "source": [
    "# X_train_sm.iloc[159179]"
   ]
  }
 ],
 "metadata": {
  "kernelspec": {
   "display_name": "Python 3 (ipykernel)",
   "language": "python",
   "name": "python3"
  },
  "language_info": {
   "codemirror_mode": {
    "name": "ipython",
    "version": 3
   },
   "file_extension": ".py",
   "mimetype": "text/x-python",
   "name": "python",
   "nbconvert_exporter": "python",
   "pygments_lexer": "ipython3",
   "version": "3.12.5"
  }
 },
 "nbformat": 4,
 "nbformat_minor": 5
}
